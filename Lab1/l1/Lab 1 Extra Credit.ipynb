{
 "cells": [
  {
   "cell_type": "markdown",
   "metadata": {},
   "source": [
    "### Hyun-Joon Yang\n",
    "### yanghyun@usc.edu\n",
    "### CSCI 360\n",
    "### Lab 1 Extra Credit"
   ]
  },
  {
   "cell_type": "code",
   "execution_count": 1,
   "metadata": {},
   "outputs": [],
   "source": [
    "from lab1 import breadth_first_search, depth_first_search\n",
    "from lab1_utils import TextbookStack\n",
    "\n",
    "def orderHelper(n, numbers, order, orders):\n",
    "    if len(order) == n:\n",
    "        orders.append(order)\n",
    "        return\n",
    "    for number in numbers:\n",
    "        cpy = [i for i in order]\n",
    "        cpy.append(number)\n",
    "        orderHelper(n, set({i for i in numbers if i != number}), cpy, orders)\n",
    "\n",
    "def generateOrder(n):\n",
    "    orders = []\n",
    "    numbers = set({})\n",
    "    for i in range(n):\n",
    "        numbers.add(i)\n",
    "    orderHelper(n, numbers, [], orders)\n",
    "    return orders\n",
    "\n",
    "def orientationHelper(n, numbers, orientation, orientations):\n",
    "    if len(orientation) == n:\n",
    "        orientations.append(orientation)\n",
    "        return\n",
    "    for number in numbers:\n",
    "        cpy = [i for i in orientation]\n",
    "        cpy.append(number)\n",
    "        orientationHelper(n, numbers, cpy, orientations)\n",
    "\n",
    "def generateOrientation(n):\n",
    "    orientations = []\n",
    "    numbers = set({0, 1})\n",
    "    orientationHelper(n, numbers, [], orientations)\n",
    "    return orientations\n",
    "\n",
    "def generateStacks(n):\n",
    "    textbooks = []\n",
    "    orders = generateOrder(n)\n",
    "    orientations = generateOrientation(n)\n",
    "    for i in orders:\n",
    "        for j in orientations:\n",
    "            textbooks.append(TextbookStack(i, j))\n",
    "    return textbooks"
   ]
  },
  {
   "cell_type": "code",
   "execution_count": 2,
   "metadata": {},
   "outputs": [
    {
     "name": "stdout",
     "output_type": "stream",
     "text": [
      "n = 1\n",
      "Number of initial stacks: 2\n",
      "Avg number of flips (bfs) =  0.5\n",
      "Avg number of flips (dfs) =  0.5\n",
      "n = 2\n",
      "Number of initial stacks: 8\n",
      "Avg number of flips (bfs) =  2.0\n",
      "Avg number of flips (dfs) =  2.75\n",
      "n = 3\n",
      "Number of initial stacks: 48\n",
      "Avg number of flips (bfs) =  3.4375\n",
      "Avg number of flips (dfs) =  11.520833333333334\n",
      "n = 4\n",
      "Number of initial stacks: 384\n",
      "Avg number of flips (bfs) =  4.796875\n",
      "Avg number of flips (dfs) =  72.0546875\n",
      "n = 5\n",
      "Number of initial stacks: 3840\n",
      "Avg number of flips (bfs) =  6.1171875\n",
      "Avg number of flips (dfs) =  587.6971354166667\n"
     ]
    }
   ],
   "source": [
    "n = []\n",
    "avgs_bfs = []\n",
    "avgs_dfs = []\n",
    "for i in range(5):\n",
    "    n.append(i+1)\n",
    "    textbooks = generateStacks(i+1)\n",
    "    print('n =', i+1)\n",
    "    print('Number of initial stacks:', len(textbooks))\n",
    "    n_bfs = 0\n",
    "    n_dfs = 0\n",
    "    for textbook in textbooks:\n",
    "        seq_bfs = breadth_first_search(textbook)\n",
    "        seq_dfs = depth_first_search(textbook)\n",
    "        n_bfs += len(seq_bfs)\n",
    "        n_dfs += len(seq_dfs)\n",
    "    avgs_bfs.append(n_bfs / len(textbooks))\n",
    "    avgs_dfs.append(n_dfs / len(textbooks))\n",
    "    print('Avg number of flips (bfs) = ', avgs_bfs[i])\n",
    "    print('Avg number of flips (dfs) = ', avgs_dfs[i])"
   ]
  },
  {
   "cell_type": "markdown",
   "metadata": {},
   "source": [
    "It seems like as n gets larger, DFS requires exponentially more flips than BFS. This is probably due to the fact that BFS finds a 'shortest path' and thus looks at less number of states whereas DFS simply finds a path."
   ]
  }
 ],
 "metadata": {
  "kernelspec": {
   "display_name": "Python 3",
   "language": "python",
   "name": "python3"
  },
  "language_info": {
   "codemirror_mode": {
    "name": "ipython",
    "version": 3
   },
   "file_extension": ".py",
   "mimetype": "text/x-python",
   "name": "python",
   "nbconvert_exporter": "python",
   "pygments_lexer": "ipython3",
   "version": "3.8.5"
  }
 },
 "nbformat": 4,
 "nbformat_minor": 4
}
